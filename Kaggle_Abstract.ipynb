{
  "nbformat": 4,
  "nbformat_minor": 0,
  "metadata": {
    "colab": {
      "name": "Kaggle_Abstract.ipynb",
      "provenance": [],
      "authorship_tag": "ABX9TyPW76CFhilRa15W1RMrKpaP",
      "include_colab_link": true
    },
    "kernelspec": {
      "name": "python3",
      "display_name": "Python 3"
    }
  },
  "cells": [
    {
      "cell_type": "markdown",
      "metadata": {
        "id": "view-in-github",
        "colab_type": "text"
      },
      "source": [
        "<a href=\"https://colab.research.google.com/github/OFTechLabs/COVID-19-Kaggle-Challenge/blob/master/Kaggle_Abstract.ipynb\" target=\"_parent\"><img src=\"https://colab.research.google.com/assets/colab-badge.svg\" alt=\"Open In Colab\"/></a>"
      ]
    },
    {
      "cell_type": "markdown",
      "metadata": {
        "id": "RD4NKFQMJfaJ",
        "colab_type": "text"
      },
      "source": [
        "##Abstract\n",
        "\n",
        "As Coronavirus is spreading across the world, there is a rapid acceleration in related literature, making it difficult for the medical research community to keep up. In this notebook, we combined Elasticsearch and \\[[BERT model](https://arxiv.org/pdf/1810.04805.pdf)] to mine useful text information from the article dataset and answer related queries."
      ]
    },
    {
      "cell_type": "markdown",
      "metadata": {
        "id": "c8vWv6WmPSVq",
        "colab_type": "text"
      },
      "source": [
        "To begin with, Elasticsearch is one of the most popular and powerful enterprise search engines, and BERT outperforms other models in tasks of question answering and language inference. For each query, we determined its keywords, and used Elasticsearch to output 50 most relevant articles from the dataset. Then we re-trained the BERT model with plain texts in Google Cloud, after which BERT would figure out the most suitable answer for the query. The procedure is as follows."
      ]
    },
    {
      "cell_type": "markdown",
      "metadata": {
        "id": "DXvTdLIqaP37",
        "colab_type": "text"
      },
      "source": [
        "$\\{ \\text{all articles} \\} \\xrightarrow{\\text{Elasticsearch}} \\{ 50 \\text{ articles} \\} \\xrightarrow{\\text{BERT}} \\text{Answer}$ "
      ]
    },
    {
      "cell_type": "markdown",
      "metadata": {
        "id": "PYxoZT0pWNw2",
        "colab_type": "text"
      },
      "source": [
        "Usually these two methods might not be optimal, namely that Elasticsearch would provide non-relevant results and BERT would cost lots of time. Similar to \\[[BERTserini](https://arxiv.org/pdf/1902.01718.pdf)] which integrates BERT with another toolkit, we combined Elasticsearch and BERT, hoping to answer the queries in an efficient and accurate way."
      ]
    }
  ]
}