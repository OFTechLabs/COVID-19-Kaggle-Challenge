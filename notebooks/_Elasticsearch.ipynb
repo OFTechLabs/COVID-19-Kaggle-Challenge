{
 "cells": [
  {
   "cell_type": "code",
   "execution_count": 5,
   "metadata": {},
   "outputs": [],
   "source": [
    "from elasticsearch_dsl import connections, Index, Search\n",
    "from elasticsearch_dsl import Document, Text, Boolean\n",
    "import os\n",
    "import pandas as pd"
   ]
  },
  {
   "cell_type": "code",
   "execution_count": 9,
   "metadata": {},
   "outputs": [
    {
     "data": {
      "text/plain": [
       "<Elasticsearch([{'host': 'localhost'}])>"
      ]
     },
     "execution_count": 9,
     "metadata": {},
     "output_type": "execute_result"
    }
   ],
   "source": [
    "connections.create_connection(hosts=['localhost'], timeout=20)"
   ]
  },
  {
   "cell_type": "markdown",
   "metadata": {},
   "source": [
    "# Create documents and index them"
   ]
  },
  {
   "cell_type": "code",
   "execution_count": 6,
   "metadata": {},
   "outputs": [],
   "source": [
    "dir_data_raw = os.path.join(\"..\", \"data\", \"raw\")\n",
    "data_dir_interim = os.path.join(\"..\", \"data\", \"interim\")\n",
    "datasets = ['biorxiv_medrxiv', 'comm_use_subset', 'noncomm_use_subset', 'pmc_custom_license']"
   ]
  },
  {
   "cell_type": "code",
   "execution_count": 2,
   "metadata": {},
   "outputs": [],
   "source": [
    "class Paper(Document):\n",
    "    id = Text(required=True, index='covid')\n",
    "    title = Text(required=True)\n",
    "    authors = Text(required=True)\n",
    "    abstract = Text(required=True)\n",
    "    text = Text(required=True)\n",
    "    bibliography = Text(required=False)\n",
    "\n",
    "    class Meta:\n",
    "        name = 'covid'"
   ]
  },
  {
   "cell_type": "code",
   "execution_count": 7,
   "metadata": {},
   "outputs": [],
   "source": [
    "data = pd.read_csv(os.path.join(data_dir_interim, \"full_data.csv\"))"
   ]
  },
  {
   "cell_type": "code",
   "execution_count": 17,
   "metadata": {},
   "outputs": [],
   "source": [
    "index = Index(\"covid\")\n",
    "\n",
    "for index, paper in data.iterrows():\n",
    "    paper_doc = Paper(\n",
    "        id=paper[\"sha\"] if type(paper[\"sha\"]) == str else \"\",\n",
    "        title=paper[\"title\"] if type(paper[\"title\"]) == str else \"\",\n",
    "        authors=paper[\"authors\"] if type(paper[\"authors\"]) == str else \"\",\n",
    "        abstract=paper[\"abstract\"] if type(paper[\"abstract\"]) == str else \"\",\n",
    "        text=paper[\"full_text\"] if type(paper[\"full_text\"]) == str else \"\",\n",
    "        bibliography=\"\"\n",
    "    )\n",
    "    paper_doc.save(index=\"covid\")"
   ]
  },
  {
   "cell_type": "markdown",
   "metadata": {},
   "source": [
    "# Search"
   ]
  },
  {
   "cell_type": "code",
   "execution_count": 21,
   "metadata": {},
   "outputs": [
    {
     "name": "stdout",
     "output_type": "stream",
     "text": [
      "Capacity building in health care professions within the Gulf cooperation council countries: paving the way forward\n",
      "\n",
      "The effectiveness of a shared conference experience in improving undergraduate medical and nursing students' attitudes towards inter-professional education in an Asian country: a before and after study\n",
      "\n",
      "\n",
      "\n",
      "Obvious and Hidden Anxiety and the Related Factors in Operating Room Nurses Employed in General Hospital, Qazvin, Iran: A Cross-Sectional Study\n",
      "\n",
      "\"Will they just pack up and leave?\" -attitudes and intended behaviour of hospital health care workers during an influenza pandemic\n",
      "\n",
      "BMC Medical Ethics On pandemics and the duty to care: whose duty? who cares?\n",
      "\n",
      "Ebola Virus Disease: Experience and Decision Making for the First Patients outside of Africa\n",
      "\n",
      "Epidemiology and Viral Etiology of the Influenza-Like Illness in Corsica during the 2012-2013 Winter: An Analysis of Several Sentinel Surveillance Systems\n",
      "\n",
      "Gastroenteritis and respiratory infection outbreaks in French nursing homes from 2007 to 2018: Morbidity and all-cause lethality according to the individual characteristics of residents\n",
      "\n",
      "Developing 21 st century accreditation standards for teaching hospitals: the Taiwan experience\n",
      "\n"
     ]
    }
   ],
   "source": [
    "s = Search().query(\"match\", text=\"medical care nursing\")\n",
    "response = s.execute()\n",
    "for hit in s:\n",
    "    print(hit.title)\n",
    "    print()"
   ]
  }
 ],
 "metadata": {
  "kernelspec": {
   "display_name": "Python 3",
   "language": "python",
   "name": "python3"
  },
  "language_info": {
   "codemirror_mode": {
    "name": "ipython",
    "version": 3
   },
   "file_extension": ".py",
   "mimetype": "text/x-python",
   "name": "python",
   "nbconvert_exporter": "python",
   "pygments_lexer": "ipython3",
   "version": "3.7.4"
  }
 },
 "nbformat": 4,
 "nbformat_minor": 2
}
